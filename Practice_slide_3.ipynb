{
  "nbformat": 4,
  "nbformat_minor": 0,
  "metadata": {
    "colab": {
      "name": "Practice_slide_3.ipynb",
      "provenance": [],
      "collapsed_sections": [],
      "toc_visible": true,
      "authorship_tag": "ABX9TyOrzyhe62Ww91fzOT09LB+6",
      "include_colab_link": true
    },
    "kernelspec": {
      "name": "python3",
      "display_name": "Python 3"
    }
  },
  "cells": [
    {
      "cell_type": "markdown",
      "metadata": {
        "id": "view-in-github",
        "colab_type": "text"
      },
      "source": [
        "<a href=\"https://colab.research.google.com/github/muiduzzaman-mahim/Learning-Python-Beginner/blob/main/Practice_slide_3.ipynb\" target=\"_parent\"><img src=\"https://colab.research.google.com/assets/colab-badge.svg\" alt=\"Open In Colab\"/></a>"
      ]
    },
    {
      "cell_type": "markdown",
      "metadata": {
        "id": "fv_0kJH27VbY"
      },
      "source": [
        "# P1-Reverse number\n",
        "Input a number, then reverse it. ( 1234 to 4321; 596254 to 452695 ).\n"
      ]
    },
    {
      "cell_type": "code",
      "metadata": {
        "id": "2VxSyuHX8mLj"
      },
      "source": [
        "#start program\n",
        "#this is only for number\n",
        "\n",
        "num = int(input('Enter a number to Reverse: \\n'))\n",
        "reverse = 0\n",
        "\n",
        "while (num > 0):\n",
        "    \n",
        "    reminder = num % 10\n",
        "    reverse = (reverse * 10) + reminder\n",
        "    num = num // 10\n",
        "\n",
        "print('Reversed Number = {}'.format(reverse))\n",
        "\n",
        "\n",
        "#end program"
      ],
      "execution_count": null,
      "outputs": []
    },
    {
      "cell_type": "markdown",
      "metadata": {
        "id": "ZhDwZzgo7edB"
      },
      "source": [
        "# P2 - Palindrome number\n",
        "Check a number whether it is palindrome or not"
      ]
    },
    {
      "cell_type": "code",
      "metadata": {
        "id": "iH0EpdQk8nCV"
      },
      "source": [
        "#start program  \n",
        "     \n",
        "Num = int(input(\"Please Enter a Number to check palindrome: \\n\"))    \n",
        "temp = Num\n",
        "Rev = 0    \n",
        "\n",
        "while(Num > 0):    \n",
        "    Rem = Num % 10    \n",
        "    Rev = (Rev * 10) + Rem  \n",
        "    Num = Num // 10            \n",
        "print(\"\\nReverse form of this number = %d\\n\" %Rev) \n",
        "\n",
        "if temp == Rev:\n",
        "    print('so, {} is a palindrome number\\n'.format(temp))\n",
        "else:\n",
        "    print('so, {} is not a palindrome number\\n'.format(temp))\n",
        "\n",
        "#end program"
      ],
      "execution_count": null,
      "outputs": []
    },
    {
      "cell_type": "markdown",
      "metadata": {
        "id": "qZqcOFV6vCpa"
      },
      "source": [
        "# P3 - Digit count\n",
        "Count the digit of a number"
      ]
    },
    {
      "cell_type": "code",
      "metadata": {
        "id": "NvTIeCjdtr_A"
      },
      "source": [
        "#start program\n",
        "#this is only for number\n",
        "\n",
        "num = int(input('Enter a number to count digits: \\n'))\n",
        "count = 0\n",
        "\n",
        "while (num > 0):\n",
        "    count += 1\n",
        "    num = num // 10\n",
        "print('There are {} digits in this number'.format(count))\n",
        "\n",
        "#end program"
      ],
      "execution_count": null,
      "outputs": []
    },
    {
      "cell_type": "markdown",
      "metadata": {
        "id": "WjcIhGzC7p4d"
      },
      "source": [
        "# P4-Unique digit count\n",
        "Count the unique-digit of a number.\n"
      ]
    },
    {
      "cell_type": "code",
      "metadata": {
        "id": "kzyCtdRT8ini"
      },
      "source": [
        ""
      ],
      "execution_count": null,
      "outputs": []
    },
    {
      "cell_type": "markdown",
      "metadata": {
        "id": "3Eer6htp72QJ"
      },
      "source": [
        "# P5-Base and power\n",
        "Take two inputs, base(b) and power(p) determine the value"
      ]
    },
    {
      "cell_type": "code",
      "metadata": {
        "id": "Jy66xNlE8iB5",
        "outputId": "21714557-3b74-4ba8-f0b8-0cbb17062187",
        "colab": {
          "base_uri": "https://localhost:8080/",
          "height": 71
        }
      },
      "source": [
        "#start \n",
        "\n",
        "base = float(input('Enter a base number: '))\n",
        "power = float(input('Enter the power of number: '))\n",
        "\n",
        "print('Result is {}'.format(base**power))\n",
        "\n",
        "#end"
      ],
      "execution_count": null,
      "outputs": [
        {
          "output_type": "stream",
          "text": [
            "Enter a base number: 12\n",
            "Enter the power of number: 2\n",
            "Result is 144.0\n"
          ],
          "name": "stdout"
        }
      ]
    },
    {
      "cell_type": "markdown",
      "metadata": {
        "id": "mBKTLHiy8BGN"
      },
      "source": [
        "# P6-Fibonacci Series\n",
        "Fibonacci Series ( 0, 1, 1, 2, 3, 5, 8, 13, 21, 34, 55, 89 ... upto N )"
      ]
    },
    {
      "cell_type": "code",
      "metadata": {
        "id": "qEQnlhXY8hB1"
      },
      "source": [
        ""
      ],
      "execution_count": null,
      "outputs": []
    },
    {
      "cell_type": "markdown",
      "metadata": {
        "id": "59VpcyBH8Pd0"
      },
      "source": [
        "# P7-Print series\n",
        "Print series: 3, 6, 9, 12, 15, 18, 21, 24, 27 upto N.\n",
        "\n"
      ]
    },
    {
      "cell_type": "code",
      "metadata": {
        "id": "PktbBDDF8gSq"
      },
      "source": [
        "#start\n",
        "\n",
        "n = int(input('Enter a range of series: \\n'))\n",
        "i = 0\n",
        "temp = []\n",
        "\n",
        "while i < n:\n",
        "    temp.append(i)\n",
        "    i = i+3\n",
        "\n",
        "print(temp)\n",
        "\n",
        "#end"
      ],
      "execution_count": null,
      "outputs": []
    },
    {
      "cell_type": "markdown",
      "metadata": {
        "id": "TnxxrD8D8TYY"
      },
      "source": [
        "# P8-3n+1 series\n",
        "Print 3n+1 series (if number is even then n=n/2, otherwise n=3n+1).\n"
      ]
    },
    {
      "cell_type": "code",
      "metadata": {
        "id": "8wXBnrhM8fgo"
      },
      "source": [
        "#start\n",
        "#3n + 1 Problem using while loop and without array\n",
        "\n",
        "num = int(input('Enter a number: \\n'))\n",
        "\n",
        "print('Output:')\n",
        "while num > 1:\n",
        "    if num % 2 == 0:\n",
        "        #print('Now, {} is even number. So, {} is divided by 2:-'.format(num,num))\n",
        "        print('{}/2 ='.format(num), end = ' ')\n",
        "        num = num // 2\n",
        "        print('{}\\n'.format(num))\n",
        "    else:\n",
        "        #print('Now, {} is odd number. So, {} is multiplied by 3 and add 1:-'.format(num,num))\n",
        "        print('(({}*3)+1) ='.format(num), end = ' ')  # , end = ' ' is used to print without new line\n",
        "        num = ((num*3)+1)\n",
        "        print('{}\\n'.format(num))\n",
        "\n",
        "#end"
      ],
      "execution_count": null,
      "outputs": []
    },
    {
      "cell_type": "markdown",
      "metadata": {
        "id": "rYA1exTg8ZQU"
      },
      "source": [
        "# P9-Factorial\n",
        "Factorial (3! = 6, 4! = 24, 5! = 120, 6! = 720, 7! = 5040)\n"
      ]
    },
    {
      "cell_type": "code",
      "metadata": {
        "id": "8Y4F3sMB8e-Q"
      },
      "source": [
        "#start\n",
        "\n",
        "num = int(input('Enter a number: '))\n",
        "temp = num\n",
        "\n",
        "i = 0\n",
        "\n",
        "while i < temp:\n",
        "    fact = num * (num-1)\n",
        "    \n",
        "print(fact)\n",
        "\n",
        "#end"
      ],
      "execution_count": null,
      "outputs": []
    }
  ]
}