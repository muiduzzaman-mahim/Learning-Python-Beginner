{
 "metadata": {
  "language_info": {
   "codemirror_mode": {
    "name": "ipython",
    "version": 3
   },
   "file_extension": ".py",
   "mimetype": "text/x-python",
   "name": "python",
   "nbconvert_exporter": "python",
   "pygments_lexer": "ipython3",
   "version": "3.8.5-final"
  },
  "orig_nbformat": 2,
  "kernelspec": {
   "name": "python3",
   "display_name": "Python 3"
  }
 },
 "nbformat": 4,
 "nbformat_minor": 2,
 "cells": [
  {
   "source": [
    "# Kaggle Day 2"
   ],
   "cell_type": "markdown",
   "metadata": {}
  },
  {
   "source": [
    "## Defining functions"
   ],
   "cell_type": "markdown",
   "metadata": {}
  },
  {
   "cell_type": "code",
   "execution_count": 19,
   "metadata": {},
   "outputs": [
    {
     "output_type": "stream",
     "name": "stdout",
     "text": [
      "16\n"
     ]
    }
   ],
   "source": [
    "def least_difference(a, b, c):\n",
    "    diff1 = abs(a - b)\n",
    "    diff2 = abs(b - c)\n",
    "    diff3 = abs(a - c)\n",
    "    return min(diff1, diff2, diff3)\n",
    "\n",
    "res = least_difference(-17,0,16)\n",
    "print(res)"
   ]
  },
  {
   "cell_type": "code",
   "execution_count": 20,
   "metadata": {},
   "outputs": [
    {
     "output_type": "stream",
     "name": "stdout",
     "text": [
      "9 0 1\n"
     ]
    }
   ],
   "source": [
    "print(\n",
    "    least_difference(1, 10, 100),\n",
    "    least_difference(1, 10, 10),\n",
    "    least_difference(5, 6, 7), # Python allows trailing commas in argument lists. How nice is that?\n",
    ")"
   ]
  },
  {
   "source": [
    "## Doc String "
   ],
   "cell_type": "markdown",
   "metadata": {}
  },
  {
   "cell_type": "code",
   "execution_count": 21,
   "metadata": {},
   "outputs": [],
   "source": [
    "def least_difference(a, b, c):\n",
    "    \"\"\"Return the smallest difference between any two numbers\n",
    "    among a, b and c.\n",
    "    \n",
    "    >>> least_difference(1, 5, -5)\n",
    "    4\n",
    "    \"\"\"\n",
    "    diff1 = abs(a - b)\n",
    "    diff2 = abs(b - c)\n",
    "    diff3 = abs(a - c)\n",
    "    return min(diff1, diff2, diff3)"
   ]
  },
  {
   "source": [
    "## args --> agrument array"
   ],
   "cell_type": "markdown",
   "metadata": {}
  },
  {
   "cell_type": "code",
   "execution_count": 22,
   "metadata": {},
   "outputs": [
    {
     "output_type": "stream",
     "name": "stdout",
     "text": [
      "(1, 2, 3, 4, 5.5)\n<class 'tuple'>\n1 -> <class 'int'>\n2 -> <class 'int'>\n3 -> <class 'int'>\n4 -> <class 'int'>\n5.5 -> <class 'float'>\n- 15\n0 -> <class 'int'>\n1 -> <class 'int'>\n2 -> <class 'int'>\n3 -> <class 'int'>\n4 -> <class 'int'>\n"
     ]
    }
   ],
   "source": [
    "def args_example(*args):\n",
    "    print(args)\n",
    "    print(type(args))\n",
    "    \n",
    "#by suing python default method\n",
    "    for x in args:\n",
    "        print(x, end=' -> ')\n",
    "        print(type(x))\n",
    "    print(\"-\", 15) \n",
    "\n",
    "#by using hands on manual method\n",
    "    for x in range(0, len(args),1): \n",
    "        print(x, end=' -> ')\n",
    "        print(type(x))\n",
    "\n",
    "args_example(1,2,3,4,5.5)"
   ]
  },
  {
   "cell_type": "code",
   "execution_count": 23,
   "metadata": {},
   "outputs": [
    {
     "output_type": "stream",
     "name": "stdout",
     "text": [
      "Help on built-in function print in module builtins:\n\nprint(...)\n    print(value, ..., sep=' ', end='\\n', file=sys.stdout, flush=False)\n    \n    Prints the values to a stream, or to sys.stdout by default.\n    Optional keyword arguments:\n    file:  a file-like object (stream); defaults to the current sys.stdout.\n    sep:   string inserted between values, default a space.\n    end:   string appended after the last value, default a newline.\n    flush: whether to forcibly flush the stream.\n\n"
     ]
    }
   ],
   "source": [
    "#use help to get instruction\n",
    "help(print)"
   ]
  },
  {
   "source": [
    "# main function"
   ],
   "cell_type": "markdown",
   "metadata": {}
  },
  {
   "cell_type": "code",
   "execution_count": 30,
   "metadata": {},
   "outputs": [
    {
     "output_type": "stream",
     "name": "stdout",
     "text": [
      "Main function\n"
     ]
    }
   ],
   "source": [
    "def main():\n",
    "    print('Main function')\n",
    "\n",
    "if __name__ == \"__main__\":\n",
    "    main()"
   ]
  },
  {
   "source": [
    "## Pass by value  or pass by references"
   ],
   "cell_type": "markdown",
   "metadata": {}
  },
  {
   "cell_type": "code",
   "execution_count": 31,
   "metadata": {},
   "outputs": [
    {
     "output_type": "stream",
     "name": "stdout",
     "text": [
      "Inside the function {'abs': 28, 'shsh': 25, 'ssgs': 22, 'alok': 20, 'anna': 28}\nInside the function <class 'dict'>\noutside the function:  {'abs': 28, 'shsh': 25, 'ssgs': 22, 'alok': 20, 'anna': 28}\n"
     ]
    }
   ],
   "source": [
    "student = {'abs':28, 'shsh':25, 'ssgs':22}\n",
    "\n",
    "def test(student):\n",
    "    new = {'alok':20, 'anna': 28}\n",
    "    student.update(new)\n",
    "    print(\"Inside the function\", student)\n",
    "    return\n",
    "\n",
    "test(student)\n",
    "test(type(student))\n",
    "\n",
    "print(\"outside the function: \", student)"
   ]
  }
 ]
}