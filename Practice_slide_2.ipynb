{
  "nbformat": 4,
  "nbformat_minor": 0,
  "metadata": {
    "colab": {
      "name": "Practice_slide_2.ipynb",
      "provenance": [],
      "collapsed_sections": [],
      "toc_visible": true,
      "authorship_tag": "ABX9TyMVpEveLenW0gmkWOa2nqSq",
      "include_colab_link": true
    },
    "kernelspec": {
      "name": "python3",
      "display_name": "Python 3"
    }
  },
  "cells": [
    {
      "cell_type": "markdown",
      "metadata": {
        "id": "view-in-github",
        "colab_type": "text"
      },
      "source": [
        "<a href=\"https://colab.research.google.com/github/muiduzzaman-mahim/Learning-Python-Beginner/blob/main/Practice_slide_2.ipynb\" target=\"_parent\"><img src=\"https://colab.research.google.com/assets/colab-badge.svg\" alt=\"Open In Colab\"/></a>"
      ]
    },
    {
      "cell_type": "markdown",
      "metadata": {
        "id": "AIaiPBfHwl--"
      },
      "source": [
        "# P1-odd or even.\n",
        "Determine a number whether it is odd or even."
      ]
    },
    {
      "cell_type": "code",
      "metadata": {
        "id": "OYMqZcGW4fwS"
      },
      "source": [
        "#start\n",
        "\n",
        "num = int(input('Enter a number to identify odd or even: \\n'))\n",
        "\n",
        "if num % 2 == 0:\n",
        "    print('{} is even number'.format(num))\n",
        "else:\n",
        "    print('{} is odd number'.format(num))\n",
        "\n",
        "#end"
      ],
      "execution_count": null,
      "outputs": []
    },
    {
      "cell_type": "markdown",
      "metadata": {
        "id": "07VJQd6JwvAO"
      },
      "source": [
        "#P2-Leap Year\n",
        "Find leap year from a given year."
      ]
    },
    {
      "cell_type": "code",
      "metadata": {
        "id": "J2FZMXm-5gx2"
      },
      "source": [
        "#start\n",
        "\n",
        "year = int(input('Enter a year to identify leap year or not:\\n'))\n",
        "\n",
        "if year % 4 == 0:\n",
        "    print('{} is leap year'.format(year))\n",
        "else:\n",
        "    print('{} is not leap year'.format(year))\n",
        "\n",
        "#end"
      ],
      "execution_count": null,
      "outputs": []
    },
    {
      "cell_type": "markdown",
      "metadata": {
        "id": "Hdm71T3_wzHM"
      },
      "source": [
        "# P3-Fizz Buzz\n",
        "If a number is divided by both 3 and 5 is called “fizz-buzz”, but a\n",
        "number is only divided by only 3 is called “fizz” and a number is only divided by 5 is called “buzz”. Otherwise is ”None”.\n"
      ]
    },
    {
      "cell_type": "code",
      "metadata": {
        "id": "PrrF7vKL69_n"
      },
      "source": [
        "#start\n",
        "\n",
        "num = float(input('Enter a number to identify fizz buzz: \\n'))\n",
        "\n",
        "if num % 3 == 0:\n",
        "    if num % 5 == 0:\n",
        "        print('{} is a \"Fizz Buzz\" Number'.format(num))\n",
        "    else:\n",
        "        print('{} is a \"Fizz\" Number'.format(num))\n",
        "else:\n",
        "    if num % 5 == 0:\n",
        "        print('{} is a \"Buzz\" Number'.format(num))\n",
        "    else:\n",
        "        print('{} is neither \"Fizz\" nor \"Buzz\" Number'.format(num))\n",
        "#end "
      ],
      "execution_count": null,
      "outputs": []
    },
    {
      "cell_type": "markdown",
      "metadata": {
        "id": "3rZ0-CAaxsu_"
      },
      "source": [
        "# P4-Positive or Negative\n",
        "Input a number, check whether it is positive or negative.\n"
      ]
    },
    {
      "cell_type": "code",
      "metadata": {
        "id": "uX0j4zjy9Ubh"
      },
      "source": [
        "#start\n",
        "\n",
        "num = float(input('Enter a number to check positive or negative:\\n'))\n",
        "\n",
        "if num > 0:\n",
        "    print('{} is a positive number'.format(num))\n",
        "else:\n",
        "    print('{} is a negative number'.format(num))\n",
        "\n",
        "#end"
      ],
      "execution_count": null,
      "outputs": []
    },
    {
      "cell_type": "markdown",
      "metadata": {
        "id": "-_0ez3Tex0qV"
      },
      "source": [
        "# P5-Print Absolute Number\n",
        "Input a number, print the absolute value of that number.\n",
        "\n"
      ]
    },
    {
      "cell_type": "code",
      "metadata": {
        "id": "9MHmWM5YAtuM"
      },
      "source": [
        "#start program\n",
        "\n",
        "n = int(input('Enter a number: \\n'))\n",
        "temp = n\n",
        "\n",
        "if n<0:\n",
        "    n = n * (-1)\n",
        "    print('Absolute Number of {} = {}'.format(temp,n))\n",
        "else:\n",
        "    print('Absolute Number of {} = {}'.format(,n))\n",
        "\n",
        "#end program"
      ],
      "execution_count": null,
      "outputs": []
    },
    {
      "cell_type": "markdown",
      "metadata": {
        "id": "x30gyGc-yDuS"
      },
      "source": [
        "# P6-Greater Between 2\n",
        "Input two numbers, tell which one is greater.\n"
      ]
    },
    {
      "cell_type": "code",
      "metadata": {
        "id": "NAvrXshaDcU8"
      },
      "source": [
        "#start program\n",
        "print('Enter two numbers')\n",
        "\n",
        "a = int(input())\n",
        "b = int(input())\n",
        " \n",
        "if a>b:\n",
        "  print('Greater value is {}'.format(a))\n",
        "else:\n",
        "  print('Greater value is {}'.format(b)) \n",
        " \n",
        "#end Program"
      ],
      "execution_count": null,
      "outputs": []
    },
    {
      "cell_type": "markdown",
      "metadata": {
        "id": "z7OpSqXbyLWh"
      },
      "source": [
        "# P7-Less between 2\n",
        "Input two numbers, tell which one is less.\n"
      ]
    },
    {
      "cell_type": "code",
      "metadata": {
        "id": "Z4Warw71Dw-0"
      },
      "source": [
        "#start program\n",
        "print('Enter two numbers')\n",
        "\n",
        "a = int(input())\n",
        "b = int(input())\n",
        " \n",
        "if a>b:\n",
        "  print('Less value is {}'.format(b))\n",
        "else:\n",
        "  print('less value is {}'.format(a)) \n",
        " \n",
        "#end Program"
      ],
      "execution_count": null,
      "outputs": []
    },
    {
      "cell_type": "markdown",
      "metadata": {
        "id": "FCzrBfApyT8t"
      },
      "source": [
        "#P8-Greater Among 3\n",
        "Input three numbers, tell which one is greater."
      ]
    },
    {
      "cell_type": "code",
      "metadata": {
        "id": "0evXVg_qD8vh"
      },
      "source": [
        "#start program\n",
        "print('Enter three numbers')\n",
        "\n",
        "a = int(input())\n",
        "b = int(input())\n",
        "c = int(input())\n",
        " \n",
        "if b<a:\n",
        "    if c<a:\n",
        "        print('Greater value is {}'.format(a))\n",
        "    else:\n",
        "        print('Greater value is {}'.format(c))\n",
        "else:\n",
        "    if c<b:\n",
        "        print('Greater value is {}'.format(b))\n",
        "    else:\n",
        "        print('Greater value is {}'.format(c))\n",
        " \n",
        " \n",
        "#end Program"
      ],
      "execution_count": null,
      "outputs": []
    },
    {
      "cell_type": "markdown",
      "metadata": {
        "id": "C-WcMlOHyh1t"
      },
      "source": [
        "# P9-Less Among 3\n",
        "Input three numbers, tell which one is less.\n"
      ]
    },
    {
      "cell_type": "code",
      "metadata": {
        "id": "_UCwy91YEF7x"
      },
      "source": [
        "#start program\n",
        "print('Enter three numbers')\n",
        "\n",
        "a = int(input())\n",
        "b = int(input())\n",
        "c =  int(input())\n",
        " \n",
        "if b>a:\n",
        "    if c>a:\n",
        "        print('Less value is {}'.format(a))\n",
        "    else:\n",
        "        print('Less value is {}'.format(c))\n",
        "else:\n",
        "    if c>b:\n",
        "        print('Less value is {}'.format(b))\n",
        "    else:\n",
        "        print('Less value is {}'.format(c))\n",
        " \n",
        " \n",
        "#end Program"
      ],
      "execution_count": null,
      "outputs": []
    }
  ]
}