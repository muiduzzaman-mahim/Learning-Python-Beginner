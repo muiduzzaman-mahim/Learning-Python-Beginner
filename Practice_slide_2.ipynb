{
  "nbformat": 4,
  "nbformat_minor": 0,
  "metadata": {
    "colab": {
      "name": "Practice_slide_2.ipynb",
      "provenance": [],
      "collapsed_sections": [],
      "authorship_tag": "ABX9TyOZJVUn+0FWtHNhSM8Ef7fV",
      "include_colab_link": true
    },
    "kernelspec": {
      "name": "python3",
      "display_name": "Python 3"
    }
  },
  "cells": [
    {
      "cell_type": "markdown",
      "metadata": {
        "id": "view-in-github",
        "colab_type": "text"
      },
      "source": [
        "<a href=\"https://colab.research.google.com/github/muiduzzaman-mahim/Learning-Python-Beginner/blob/main/Practice_slide_2.ipynb\" target=\"_parent\"><img src=\"https://colab.research.google.com/assets/colab-badge.svg\" alt=\"Open In Colab\"/></a>"
      ]
    },
    {
      "cell_type": "code",
      "metadata": {
        "id": "mKIa_uC6u0Gd"
      },
      "source": [
        ""
      ],
      "execution_count": null,
      "outputs": []
    },
    {
      "cell_type": "markdown",
      "metadata": {
        "id": "AIaiPBfHwl--"
      },
      "source": [
        "# P1-odd or even.\n",
        "Determine a number whether it is odd or even."
      ]
    },
    {
      "cell_type": "code",
      "metadata": {
        "id": "OYMqZcGW4fwS",
        "outputId": "cd861da2-3d65-4603-fb76-87a9f05190f3",
        "colab": {
          "base_uri": "https://localhost:8080/",
          "height": 71
        }
      },
      "source": [
        "#start\n",
        "\n",
        "num = int(input('Enter a number to identify odd or even: \\n'))\n",
        "\n",
        "if num % 2 == 0:\n",
        "    print('{} is even number'.format(num))\n",
        "else:\n",
        "    print('{} is odd number'.format(num))\n",
        "\n",
        "#end"
      ],
      "execution_count": 1,
      "outputs": [
        {
          "output_type": "stream",
          "text": [
            "Enter a number to identify odd or even: \n",
            "11\n",
            "11 is odd number\n"
          ],
          "name": "stdout"
        }
      ]
    },
    {
      "cell_type": "markdown",
      "metadata": {
        "id": "07VJQd6JwvAO"
      },
      "source": [
        "#P2-Leap Year\n",
        "Find leap year from a given year."
      ]
    },
    {
      "cell_type": "code",
      "metadata": {
        "id": "J2FZMXm-5gx2",
        "outputId": "265c1edc-74ab-4964-fac3-a00b26e03980",
        "colab": {
          "base_uri": "https://localhost:8080/",
          "height": 71
        }
      },
      "source": [
        "#start\n",
        "\n",
        "year = int(input('Enter a year to identify leap year or not:\\n'))\n",
        "\n",
        "if year % 4 == 0:\n",
        "    print('{} is leap year'.format(year))\n",
        "else:\n",
        "    print('{} is not leap year'.format(year))\n",
        "\n",
        "#end"
      ],
      "execution_count": 3,
      "outputs": [
        {
          "output_type": "stream",
          "text": [
            "Enter a year to identify leap year or not:\n",
            "1995\n",
            "1995 is not leap year\n"
          ],
          "name": "stdout"
        }
      ]
    },
    {
      "cell_type": "markdown",
      "metadata": {
        "id": "Hdm71T3_wzHM"
      },
      "source": [
        "# P3-Fizz Buzz\n",
        "If a number is divided by both 3 and 5 is called “fizz-buzz”, but a\n",
        "number is only divided by only 3 is called “fizz” and a number is only divided by 5 is called “buzz”. Otherwise is ”None”.\n"
      ]
    },
    {
      "cell_type": "code",
      "metadata": {
        "id": "PrrF7vKL69_n",
        "outputId": "b05fcf31-51b0-44b9-eb5c-362fe674b1a6",
        "colab": {
          "base_uri": "https://localhost:8080/",
          "height": 71
        }
      },
      "source": [
        "#start\n",
        "\n",
        "num = float(input('Enter a number to identify fizz buzz: \\n'))\n",
        "\n",
        "if num % 3 == 0:\n",
        "    if num % 5 == 0:\n",
        "        print('{} is a \"Fizz Buzz\" Number'.format(num))\n",
        "    else:\n",
        "        print('{} is a \"Fizz\" Number'.format(num))\n",
        "else:\n",
        "    if num % 5 == 0:\n",
        "        print('{} is a \"Buzz\" Number'.format(num))\n",
        "    else:\n",
        "        print('{} is neither \"Fizz\" nor \"Buzz\" Number'.format(num))\n",
        "#end "
      ],
      "execution_count": 9,
      "outputs": [
        {
          "output_type": "stream",
          "text": [
            "Enter a number to identify fizz buzz: \n",
            "15\n",
            "15.0 is a \"Fizz Buzz\" Number\n"
          ],
          "name": "stdout"
        }
      ]
    },
    {
      "cell_type": "markdown",
      "metadata": {
        "id": "3rZ0-CAaxsu_"
      },
      "source": [
        "# P4-Positive or Negative\n",
        "Input a number, check whether it is positive or negative.\n"
      ]
    },
    {
      "cell_type": "code",
      "metadata": {
        "id": "uX0j4zjy9Ubh",
        "outputId": "a5dcec34-592c-418d-c54c-a9349a6947fe",
        "colab": {
          "base_uri": "https://localhost:8080/",
          "height": 71
        }
      },
      "source": [
        "#start\n",
        "\n",
        "num = float(input('Enter a number to check positive or negative:\\n'))\n",
        "\n",
        "if num > 0:\n",
        "    print('{} is a positive number'.format(num))\n",
        "else:\n",
        "    print('{} is a negative number'.format(num))\n",
        "\n",
        "#end"
      ],
      "execution_count": 14,
      "outputs": [
        {
          "output_type": "stream",
          "text": [
            "Enter a number to check positive or negative:\n",
            "-11.88\n",
            "-11.88 is a negative number\n"
          ],
          "name": "stdout"
        }
      ]
    },
    {
      "cell_type": "markdown",
      "metadata": {
        "id": "-_0ez3Tex0qV"
      },
      "source": [
        "# P5-Print Absolute Number\n",
        "Input a number, print the absolute value of that number.\n",
        "\n"
      ]
    },
    {
      "cell_type": "code",
      "metadata": {
        "id": "9MHmWM5YAtuM"
      },
      "source": [
        "#start program\n",
        "\n",
        "n = int(input('Enter a number: \\n'))\n",
        "\n",
        "if n<0:\n",
        "    n = n * (-1)\n",
        "    print('Absolute Number of {} = '.format(n))\n",
        "else:\n",
        "    print('Absolute Number of {} = '.format(n))\n",
        "\n",
        "#end program"
      ],
      "execution_count": null,
      "outputs": []
    },
    {
      "cell_type": "markdown",
      "metadata": {
        "id": "x30gyGc-yDuS"
      },
      "source": [
        "# P6-Greater Between 2\n",
        "Input two numbers, tell which one is greater.\n"
      ]
    },
    {
      "cell_type": "markdown",
      "metadata": {
        "id": "z7OpSqXbyLWh"
      },
      "source": [
        "# P7-Less between 2\n",
        "Input two numbers, tell which one is less.\n"
      ]
    },
    {
      "cell_type": "markdown",
      "metadata": {
        "id": "FCzrBfApyT8t"
      },
      "source": [
        "#P8-Greater Among 3\n",
        "Input three numbers, tell which one is greater."
      ]
    },
    {
      "cell_type": "markdown",
      "metadata": {
        "id": "C-WcMlOHyh1t"
      },
      "source": [
        "# P9-Less Among 3\n",
        "Input three numbers, tell which one is less.\n"
      ]
    }
  ]
}