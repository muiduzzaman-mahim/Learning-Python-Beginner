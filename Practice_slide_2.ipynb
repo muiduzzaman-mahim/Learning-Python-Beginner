{
  "nbformat": 4,
  "nbformat_minor": 0,
  "metadata": {
    "colab": {
      "name": "Practice_slide_2.ipynb",
      "provenance": [],
      "collapsed_sections": [],
      "authorship_tag": "ABX9TyPevzgvJHKXxzE+gDtxKpZR",
      "include_colab_link": true
    },
    "kernelspec": {
      "name": "python3",
      "display_name": "Python 3"
    }
  },
  "cells": [
    {
      "cell_type": "markdown",
      "metadata": {
        "id": "view-in-github",
        "colab_type": "text"
      },
      "source": [
        "<a href=\"https://colab.research.google.com/github/muiduzzaman-mahim/Learning-Python-Beginner/blob/main/Practice_slide_2.ipynb\" target=\"_parent\"><img src=\"https://colab.research.google.com/assets/colab-badge.svg\" alt=\"Open In Colab\"/></a>"
      ]
    },
    {
      "cell_type": "code",
      "metadata": {
        "id": "mKIa_uC6u0Gd"
      },
      "source": [
        ""
      ],
      "execution_count": null,
      "outputs": []
    },
    {
      "cell_type": "markdown",
      "metadata": {
        "id": "AIaiPBfHwl--"
      },
      "source": [
        "# P1-odd or even.\n",
        "Determine a number whether it is odd or even."
      ]
    },
    {
      "cell_type": "markdown",
      "metadata": {
        "id": "07VJQd6JwvAO"
      },
      "source": [
        "#P2-Leap Year\n",
        "Find leap year from a given year."
      ]
    },
    {
      "cell_type": "markdown",
      "metadata": {
        "id": "Hdm71T3_wzHM"
      },
      "source": [
        "# P3-Fizz Buzz\n",
        "If a number is divided by both 3 and 5 is called “fizz-buzz”, but a\n",
        "number is only divided by only 3 is called “fizz” and a number is only divided by 5 is called “buzz”. Otherwise is ”None”.\n"
      ]
    },
    {
      "cell_type": "markdown",
      "metadata": {
        "id": "DCotf7I-xmCJ"
      },
      "source": [
        ""
      ]
    },
    {
      "cell_type": "markdown",
      "metadata": {
        "id": "3rZ0-CAaxsu_"
      },
      "source": [
        "# P4-Positive or Negative\n",
        "Input a number, check whether it is positive or negative.\n"
      ]
    },
    {
      "cell_type": "markdown",
      "metadata": {
        "id": "-_0ez3Tex0qV"
      },
      "source": [
        "# P5-Print Absolute Number\n",
        "Input a number, print the absolute value of that number.\n",
        "\n"
      ]
    },
    {
      "cell_type": "markdown",
      "metadata": {
        "id": "x30gyGc-yDuS"
      },
      "source": [
        "# P6-Greater Between 2\n",
        "Input two numbers, tell which one is greater.\n"
      ]
    },
    {
      "cell_type": "markdown",
      "metadata": {
        "id": "z7OpSqXbyLWh"
      },
      "source": [
        "# P7-Less between 2\n",
        "Input two numbers, tell which one is less.\n"
      ]
    },
    {
      "cell_type": "markdown",
      "metadata": {
        "id": "FCzrBfApyT8t"
      },
      "source": [
        "#P8-Greater Among 3\n",
        "Input three numbers, tell which one is greater."
      ]
    },
    {
      "cell_type": "markdown",
      "metadata": {
        "id": "C-WcMlOHyh1t"
      },
      "source": [
        "# P9-Less Among 3\n",
        "Input three numbers, tell which one is less.\n"
      ]
    }
  ]
}