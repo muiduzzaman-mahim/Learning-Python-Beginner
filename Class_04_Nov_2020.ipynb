{
 "metadata": {
  "language_info": {
   "codemirror_mode": {
    "name": "ipython",
    "version": 3
   },
   "file_extension": ".py",
   "mimetype": "text/x-python",
   "name": "python",
   "nbconvert_exporter": "python",
   "pygments_lexer": "ipython3",
   "version": "3.8.5-final"
  },
  "orig_nbformat": 2,
  "kernelspec": {
   "name": "python3",
   "display_name": "Python 3"
  }
 },
 "nbformat": 4,
 "nbformat_minor": 2,
 "cells": [
  {
   "source": [
    "## Power Function\n",
    "Base power probelm"
   ],
   "cell_type": "markdown",
   "metadata": {}
  },
  {
   "source": [
    "def power_function(base,power):\n",
    "    result = base**power\n",
    "    print(result)\n",
    "    return result\n",
    "\n",
    "base = int(input())\n",
    "power = int(input())\n",
    "power_function(base, power)\n",
    "print(power_function) #function location"
   ],
   "cell_type": "code",
   "metadata": {},
   "execution_count": null,
   "outputs": []
  },
  {
   "source": [
    "## Foo Bar Buzz Function"
   ],
   "cell_type": "markdown",
   "metadata": {}
  },
  {
   "cell_type": "code",
   "execution_count": null,
   "metadata": {},
   "outputs": [],
   "source": [
    "def check_foo_bar(number):\n",
    "    if number % 3 == 0:\n",
    "        return \"foo\"\n",
    "    elif number % 5 == 0:\n",
    "        return \"bar\"\n",
    "    else:\n",
    "        return \"none\"\n",
    "    \n",
    "def isBazz(number):\n",
    "    if number % 2 == 0:\n",
    "        print('{} is is a Buzz'.format(number))\n",
    "    else:\n",
    "        value = check_foo_bar(number)\n",
    "        return value\n",
    "\n",
    "isBazz(75)"
   ]
  },
  {
   "source": [
    "## Local and global variable"
   ],
   "cell_type": "markdown",
   "metadata": {}
  },
  {
   "cell_type": "code",
   "execution_count": null,
   "metadata": {},
   "outputs": [],
   "source": [
    "var_test = 100 #global function\n",
    "print('print from global: {}'.format(var_test))\n",
    "\n",
    "def new_function():\n",
    "    var_test = \"i am not a int\" #local variable\n",
    "    print('print from function: {}'.format(var_test))\n",
    "\n",
    "new_function()\n",
    "\n",
    "print('print from global 2: {}'.format(var_test))\n"
   ]
  },
  {
   "source": [
    "## Default Argument"
   ],
   "cell_type": "markdown",
   "metadata": {}
  },
  {
   "cell_type": "code",
   "execution_count": null,
   "metadata": {},
   "outputs": [],
   "source": [
    "#when do not get any value, use argumental default value\n",
    "def multiply(x,y = 1): #default argument => y = 1\n",
    "    return x*y\n",
    "\n",
    "print(multiply(3,7)) #with local value\n",
    "print(multiply(3)) #without local value"
   ]
  },
  {
   "cell_type": "code",
   "execution_count": null,
   "metadata": {},
   "outputs": [],
   "source": []
  }
 ]
}