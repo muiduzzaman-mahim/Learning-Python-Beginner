{
  "nbformat": 4,
  "nbformat_minor": 0,
  "metadata": {
    "colab": {
      "name": "20-Oct-Array-Assignment .ipynb",
      "provenance": [],
      "authorship_tag": "ABX9TyM1Lj0fqueE93POoMB/JP47",
      "include_colab_link": true
    },
    "kernelspec": {
      "name": "python3",
      "display_name": "Python 3"
    }
  },
  "cells": [
    {
      "cell_type": "markdown",
      "metadata": {
        "id": "view-in-github",
        "colab_type": "text"
      },
      "source": [
        "<a href=\"https://colab.research.google.com/github/muiduzzaman-mahim/Learning-Python-Beginner/blob/main/20_Oct_Array_Assignment_.ipynb\" target=\"_parent\"><img src=\"https://colab.research.google.com/assets/colab-badge.svg\" alt=\"Open In Colab\"/></a>"
      ]
    },
    {
      "cell_type": "markdown",
      "metadata": {
        "id": "NWbbuHK5Jz_X"
      },
      "source": [
        "# P1-Find the array sum (1+5+6+7+...)"
      ]
    },
    {
      "cell_type": "code",
      "metadata": {
        "id": "QkNx3WRvLCMf"
      },
      "source": [
        "#start\n",
        "\n",
        "#end"
      ],
      "execution_count": null,
      "outputs": []
    },
    {
      "cell_type": "markdown",
      "metadata": {
        "id": "PU_5stx9J7Ro"
      },
      "source": [
        "# P2-Find the total odd number"
      ]
    },
    {
      "cell_type": "code",
      "metadata": {
        "id": "No7M4bt-LGum"
      },
      "source": [
        "#start\n",
        "\n",
        "#end"
      ],
      "execution_count": null,
      "outputs": []
    },
    {
      "cell_type": "markdown",
      "metadata": {
        "id": "q60-E0FPKAa4"
      },
      "source": [
        "# P3-Find the total even number"
      ]
    },
    {
      "cell_type": "code",
      "metadata": {
        "id": "Jwbv81ZyLH64"
      },
      "source": [
        "#start\n",
        "\n",
        "#end"
      ],
      "execution_count": null,
      "outputs": []
    },
    {
      "cell_type": "markdown",
      "metadata": {
        "id": "8T6tgTo3KCW8"
      },
      "source": [
        "# P4-Find the total +ve number"
      ]
    },
    {
      "cell_type": "code",
      "metadata": {
        "id": "wfpRPfeGLJUv"
      },
      "source": [
        "#start\n",
        "\n",
        "#end"
      ],
      "execution_count": null,
      "outputs": []
    },
    {
      "cell_type": "markdown",
      "metadata": {
        "id": "U7z-VLGTKGW5"
      },
      "source": [
        "# P5-Find the total -ve number"
      ]
    },
    {
      "cell_type": "code",
      "metadata": {
        "id": "6odF7StpLKTa"
      },
      "source": [
        "#start\n",
        "\n",
        "#end"
      ],
      "execution_count": null,
      "outputs": []
    },
    {
      "cell_type": "markdown",
      "metadata": {
        "id": "xEQmKX-iKJWG"
      },
      "source": [
        "# P6-Find the minimum number from the array --> -3"
      ]
    },
    {
      "cell_type": "code",
      "metadata": {
        "id": "-m1g6oGdLL9d"
      },
      "source": [
        "#start\n",
        "\n",
        "#end"
      ],
      "execution_count": null,
      "outputs": []
    },
    {
      "cell_type": "markdown",
      "metadata": {
        "id": "PAWjij5aKL9u"
      },
      "source": [
        "# Find the miximum number from the array --> 9"
      ]
    },
    {
      "cell_type": "code",
      "metadata": {
        "id": "8qC5IT_vLM4-"
      },
      "source": [
        "#start\n",
        "\n",
        "#end"
      ],
      "execution_count": null,
      "outputs": []
    }
  ]
}