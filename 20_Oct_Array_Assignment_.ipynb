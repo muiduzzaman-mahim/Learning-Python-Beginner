{
  "nbformat": 4,
  "nbformat_minor": 0,
  "metadata": {
    "colab": {
      "name": "20-Oct-Array-Assignment .ipynb",
      "provenance": [],
      "collapsed_sections": [],
      "authorship_tag": "ABX9TyPbw5JO4Ap8vXD6CoNELDat",
      "include_colab_link": true
    },
    "kernelspec": {
      "name": "python3",
      "display_name": "Python 3"
    }
  },
  "cells": [
    {
      "cell_type": "markdown",
      "metadata": {
        "id": "view-in-github",
        "colab_type": "text"
      },
      "source": [
        "<a href=\"https://colab.research.google.com/github/muiduzzaman-mahim/Learning-Python-Beginner/blob/main/20_Oct_Array_Assignment_.ipynb\" target=\"_parent\"><img src=\"https://colab.research.google.com/assets/colab-badge.svg\" alt=\"Open In Colab\"/></a>"
      ]
    },
    {
      "cell_type": "markdown",
      "metadata": {
        "id": "NWbbuHK5Jz_X"
      },
      "source": [
        "# P1-Find the array sum (1+5+6+7+...)"
      ]
    },
    {
      "cell_type": "code",
      "metadata": {
        "id": "QkNx3WRvLCMf"
      },
      "source": [
        "#start\n",
        "\n",
        "array = []\n",
        "n = int(input('Enter the length of array: \\n'))\n",
        "i = 0\n",
        "print('Please enter the elements of Array:')\n",
        "\n",
        "# array = [1,2,3,4,5,6] #use this when there is no need user input.\n",
        "\n",
        "while i < n:\n",
        "    element = float(input())\n",
        "    array.append(element)\n",
        "    i = i+1\n",
        "\n",
        "i = 0\n",
        "sum = 0\n",
        "while i < len(array):\n",
        "    sum = sum + array[i]\n",
        "    i = i+1\n",
        "\n",
        "print('Array = {}'.format(array))\n",
        "print('Sum of The elements of Array = {}'.format(sum))\n",
        "\n",
        "#end"
      ],
      "execution_count": null,
      "outputs": []
    },
    {
      "cell_type": "markdown",
      "metadata": {
        "id": "PU_5stx9J7Ro"
      },
      "source": [
        "# P2-Find the total odd number"
      ]
    },
    {
      "cell_type": "code",
      "metadata": {
        "id": "No7M4bt-LGum"
      },
      "source": [
        "#start\n",
        "\n",
        "array = []\n",
        "n = int(input('Enter the length of array: \\n'))\n",
        "i = 0\n",
        "print('Please enter the elements of Array:')\n",
        "\n",
        "# array = [1,2,3,4,5,6] #use this when there is no need user input.\n",
        "\n",
        "while i < n:\n",
        "    element = float(input())\n",
        "    array.append(element)\n",
        "    i = i+1\n",
        "i = 0\n",
        "odd = 0\n",
        "odd_list = []\n",
        "while i < n:\n",
        "    if array[i]%2 == 1:\n",
        "        odd = odd+1\n",
        "        odd_list.append(array[i])\n",
        "    i = i+1\n",
        "\n",
        "print('Array = {}'.format(array))\n",
        "print('Total Odd numbers = {}'.format(odd))\n",
        "print('List of Odd Numbers = {}'.format(odd_list))\n",
        "\n",
        "#end"
      ],
      "execution_count": null,
      "outputs": []
    },
    {
      "cell_type": "markdown",
      "metadata": {
        "id": "q60-E0FPKAa4"
      },
      "source": [
        "# P3-Find the total even number"
      ]
    },
    {
      "cell_type": "code",
      "metadata": {
        "id": "Jwbv81ZyLH64"
      },
      "source": [
        "#start\n",
        "\n",
        "array = []\n",
        "n = int(input('Enter the length of array: \\n'))\n",
        "i = 0\n",
        "print('Please enter the elements of Array:')\n",
        "\n",
        "# array = [1,2,3,4,5,6] #use this when there is no need user input.\n",
        "\n",
        "while i < n:\n",
        "    element = float(input())\n",
        "    array.append(element)\n",
        "    i = i+1\n",
        "i = 0\n",
        "even = 0\n",
        "even_list = []\n",
        "while i < n:\n",
        "    if array[i]%2 == 0:\n",
        "        even = even+1\n",
        "        even_list.append(array[i])\n",
        "    i = i+1\n",
        "\n",
        "print('Array = {}'.format(array))\n",
        "print('Total even numbers = {}'.format(even))\n",
        "print('List of Even Numbers = {}'.format(even_list))\n",
        "\n",
        "#end"
      ],
      "execution_count": null,
      "outputs": []
    },
    {
      "cell_type": "markdown",
      "metadata": {
        "id": "8T6tgTo3KCW8"
      },
      "source": [
        "# P4-Find the total +ve number"
      ]
    },
    {
      "cell_type": "code",
      "metadata": {
        "id": "wfpRPfeGLJUv"
      },
      "source": [
        "#start\n",
        "\n",
        "array = []\n",
        "n = int(input('Enter the length of array: \\n'))\n",
        "i = 0\n",
        "print('Please enter the elements of Array:')\n",
        "\n",
        "# array = [1,2,3,4,5,6] #use this when there is no need user input.\n",
        "\n",
        "while i < n:\n",
        "    element = float(input())\n",
        "    array.append(element)\n",
        "    i = i+1\n",
        "i = 0\n",
        "pos = 0\n",
        "pos_list = []\n",
        "while i < n:\n",
        "    if array[i] > 0:\n",
        "        pos = pos+1\n",
        "        pos_list.append(array[i])\n",
        "    i = i+1\n",
        "\n",
        "print('Array = {}'.format(array))\n",
        "print('Total Positive numbers = {}'.format(pos))\n",
        "print('List of Positive Numbers = {}'.format(pos_list))\n",
        "\n",
        "#end"
      ],
      "execution_count": null,
      "outputs": []
    },
    {
      "cell_type": "markdown",
      "metadata": {
        "id": "U7z-VLGTKGW5"
      },
      "source": [
        "# P5-Find the total -ve number"
      ]
    },
    {
      "cell_type": "code",
      "metadata": {
        "id": "6odF7StpLKTa"
      },
      "source": [
        "#start\n",
        "\n",
        "array = []\n",
        "n = int(input('Enter the length of array: \\n'))\n",
        "i = 0\n",
        "print('Please enter the elements of Array:')\n",
        "\n",
        "# array = [1,2,3,4,5,6] #use this when there is no need user input.\n",
        "\n",
        "while i < n:\n",
        "    element = float(input())\n",
        "    array.append(element)\n",
        "    i = i+1\n",
        "i = 0\n",
        "neg = 0\n",
        "neg_list = []\n",
        "while i < n:\n",
        "    if array[i] < 0:\n",
        "        neg = neg+1\n",
        "        neg_list.append(array[i])\n",
        "    i = i+1\n",
        "\n",
        "print('Array = {}'.format(array))\n",
        "print('Total Negative numbers = {}'.format(neg))\n",
        "print('List of Negative Numbers = {}'.format(neg_list))\n",
        "\n",
        "#end"
      ],
      "execution_count": null,
      "outputs": []
    },
    {
      "cell_type": "markdown",
      "metadata": {
        "id": "xEQmKX-iKJWG"
      },
      "source": [
        "# P6-Find the minimum number from the array --> -3"
      ]
    },
    {
      "cell_type": "code",
      "metadata": {
        "id": "-m1g6oGdLL9d"
      },
      "source": [
        "#start\n",
        "\n",
        "#end"
      ],
      "execution_count": null,
      "outputs": []
    },
    {
      "cell_type": "markdown",
      "metadata": {
        "id": "PAWjij5aKL9u"
      },
      "source": [
        "# Find the miximum number from the array --> 9"
      ]
    },
    {
      "cell_type": "code",
      "metadata": {
        "id": "8qC5IT_vLM4-"
      },
      "source": [
        "#start\n",
        "\n",
        "#end"
      ],
      "execution_count": null,
      "outputs": []
    }
  ]
}