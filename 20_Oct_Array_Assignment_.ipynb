{
  "nbformat": 4,
  "nbformat_minor": 0,
  "metadata": {
    "colab": {
      "name": "20-Oct-Array-Assignment .ipynb",
      "provenance": [],
      "collapsed_sections": [],
      "authorship_tag": "ABX9TyMU7jRLJcZuN1uktIepIndR",
      "include_colab_link": true
    },
    "kernelspec": {
      "name": "python3",
      "display_name": "Python 3"
    }
  },
  "cells": [
    {
      "cell_type": "markdown",
      "metadata": {
        "id": "view-in-github",
        "colab_type": "text"
      },
      "source": [
        "<a href=\"https://colab.research.google.com/github/muiduzzaman-mahim/Learning-Python-Beginner/blob/main/20_Oct_Array_Assignment_.ipynb\" target=\"_parent\"><img src=\"https://colab.research.google.com/assets/colab-badge.svg\" alt=\"Open In Colab\"/></a>"
      ]
    },
    {
      "cell_type": "markdown",
      "metadata": {
        "id": "NWbbuHK5Jz_X"
      },
      "source": [
        "# P1-Find the array sum (1+5+6+7+...)"
      ]
    },
    {
      "cell_type": "code",
      "metadata": {
        "id": "QkNx3WRvLCMf",
        "outputId": "257dffc3-d798-4eb5-c11f-df25d62a0823",
        "colab": {
          "base_uri": "https://localhost:8080/",
          "height": 179
        }
      },
      "source": [
        "#start\n",
        "\n",
        "array = []\n",
        "n = int(input('Enter the length of array: \\n'))\n",
        "i = 0\n",
        "sum = 0\n",
        "print('Please enter the elements of Array:')\n",
        "\n",
        "while i < n:\n",
        "    element = float(input())\n",
        "    array.append(element)\n",
        "    i = i+1\n",
        "\n",
        "i = 0\n",
        "while i < n:\n",
        "    sum = sum + array[i]\n",
        "    i = i+1\n",
        "\n",
        "print('Array = {}'.format(array))\n",
        "print('Sum of Array = {}'.format(sum))\n",
        "#end"
      ],
      "execution_count": 11,
      "outputs": [
        {
          "output_type": "stream",
          "text": [
            "Enter the length of array: \n",
            "4\n",
            "Please enter the elements of Array:\n",
            "1\n",
            "2\n",
            "3\n",
            "4\n",
            "Array = [1.0, 2.0, 3.0, 4.0]\n",
            "Sum of Array = 10.0\n"
          ],
          "name": "stdout"
        }
      ]
    },
    {
      "cell_type": "markdown",
      "metadata": {
        "id": "PU_5stx9J7Ro"
      },
      "source": [
        "# P2-Find the total odd number"
      ]
    },
    {
      "cell_type": "code",
      "metadata": {
        "id": "No7M4bt-LGum"
      },
      "source": [
        "#start\n",
        "\n",
        "#end"
      ],
      "execution_count": null,
      "outputs": []
    },
    {
      "cell_type": "markdown",
      "metadata": {
        "id": "q60-E0FPKAa4"
      },
      "source": [
        "# P3-Find the total even number"
      ]
    },
    {
      "cell_type": "code",
      "metadata": {
        "id": "Jwbv81ZyLH64"
      },
      "source": [
        "#start\n",
        "\n",
        "#end"
      ],
      "execution_count": null,
      "outputs": []
    },
    {
      "cell_type": "markdown",
      "metadata": {
        "id": "8T6tgTo3KCW8"
      },
      "source": [
        "# P4-Find the total +ve number"
      ]
    },
    {
      "cell_type": "code",
      "metadata": {
        "id": "wfpRPfeGLJUv"
      },
      "source": [
        "#start\n",
        "\n",
        "#end"
      ],
      "execution_count": null,
      "outputs": []
    },
    {
      "cell_type": "markdown",
      "metadata": {
        "id": "U7z-VLGTKGW5"
      },
      "source": [
        "# P5-Find the total -ve number"
      ]
    },
    {
      "cell_type": "code",
      "metadata": {
        "id": "6odF7StpLKTa"
      },
      "source": [
        "#start\n",
        "\n",
        "#end"
      ],
      "execution_count": null,
      "outputs": []
    },
    {
      "cell_type": "markdown",
      "metadata": {
        "id": "xEQmKX-iKJWG"
      },
      "source": [
        "# P6-Find the minimum number from the array --> -3"
      ]
    },
    {
      "cell_type": "code",
      "metadata": {
        "id": "-m1g6oGdLL9d"
      },
      "source": [
        "#start\n",
        "\n",
        "#end"
      ],
      "execution_count": null,
      "outputs": []
    },
    {
      "cell_type": "markdown",
      "metadata": {
        "id": "PAWjij5aKL9u"
      },
      "source": [
        "# Find the miximum number from the array --> 9"
      ]
    },
    {
      "cell_type": "code",
      "metadata": {
        "id": "8qC5IT_vLM4-"
      },
      "source": [
        "#start\n",
        "\n",
        "#end"
      ],
      "execution_count": null,
      "outputs": []
    }
  ]
}